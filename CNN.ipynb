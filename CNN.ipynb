{
 "cells": [
  {
   "cell_type": "code",
   "execution_count": null,
   "id": "8b603141",
   "metadata": {},
   "outputs": [],
   "source": [
    "import torch\n",
    "import torch.nn as nn\n",
    "import torch.nn.functional as F\n",
    "import torchvision\n",
    "import torchvision.transforms as transforms\n",
    "import torch.optim as optim\n",
    "from tqdm import tqdm"
   ]
  },
  {
   "cell_type": "markdown",
   "id": "2c07c619",
   "metadata": {},
   "source": [
    "# Create a CNN with two Convolutional Layers"
   ]
  },
  {
   "cell_type": "code",
   "execution_count": null,
   "id": "dbf5d30a",
   "metadata": {},
   "outputs": [],
   "source": [
    "class CNN(nn.Module):\n",
    "    def __init__(self):\n",
    "        super(CNN, self).__init__()\n",
    "        self.conv1 = nn.Conv2d(1, 16, 3)\n",
    "        self.conv2 = nn.Conv2d(16, 32, 3)\n",
    "        self.fc1 = nn.Linear(5*5*32, 64)\n",
    "        self.fc2 = nn.Linear(64, 10)\n",
    "        \n",
    "    def forward(self, x):\n",
    "        x = self.conv1(x)\n",
    "        x = F.relu(x)\n",
    "        x = F.max_pool2d(x, 2)\n",
    "        \n",
    "        x = self.conv2(x)\n",
    "        x = F.relu(x)\n",
    "        x = F.max_pool2d(x, 2)\n",
    "        \n",
    "        x = x.view(-1, 5*5*32)\n",
    "        x = self.fc1(x)\n",
    "        x = F.relu(x)\n",
    "        x = self.fc2(x)\n",
    "        \n",
    "        return x"
   ]
  },
  {
   "cell_type": "markdown",
   "id": "ec725f19",
   "metadata": {},
   "source": [
    "# Preprocessing Data to Use Tensor and Normalize them to 0-1"
   ]
  },
  {
   "cell_type": "code",
   "execution_count": null,
   "id": "161e19b8",
   "metadata": {},
   "outputs": [],
   "source": [
    "transform = transforms.Compose(\n",
    "    [transforms.ToTensor(),\n",
    "    transforms.Normalize((0.5, ),(0.5,))])"
   ]
  },
  {
   "cell_type": "markdown",
   "id": "a81d9cc6",
   "metadata": {},
   "source": [
    "# Download Data"
   ]
  },
  {
   "cell_type": "code",
   "execution_count": null,
   "id": "bd42eca8",
   "metadata": {},
   "outputs": [],
   "source": [
    "trainset = torchvision.datasets.MNIST(root='./data', train=True, download=True, transform=transform)\n",
    "testset = torchvision.datasets.MNIST(root='./data', train=False, download=True, transform=transform)"
   ]
  },
  {
   "cell_type": "code",
   "execution_count": null,
   "id": "5f86f049",
   "metadata": {},
   "outputs": [],
   "source": [
    "print(len(trainset))\n",
    "print(len(testset))"
   ]
  },
  {
   "cell_type": "code",
   "execution_count": null,
   "id": "78a88212",
   "metadata": {},
   "outputs": [],
   "source": [
    "trainloader = torch.utils.data.DataLoader(trainset, batch_size = 32, shuffle=True, num_workers=4)\n",
    "testloader = torch.utils.data.DataLoader(testset, batch_size = 32, shuffle=True, num_workers=4)"
   ]
  },
  {
   "cell_type": "code",
   "execution_count": null,
   "id": "f83207f4",
   "metadata": {},
   "outputs": [],
   "source": [
    "cnn = CNN()"
   ]
  },
  {
   "cell_type": "markdown",
   "id": "7214f3f0",
   "metadata": {},
   "source": [
    "# To Compute the Error we Choose as Loss Function the Cross Entropy Loss"
   ]
  },
  {
   "cell_type": "code",
   "execution_count": null,
   "id": "2a810066",
   "metadata": {},
   "outputs": [],
   "source": [
    "loss = nn.CrossEntropyLoss()"
   ]
  },
  {
   "cell_type": "markdown",
   "id": "cea57c33",
   "metadata": {},
   "source": [
    "# To Optimize the network we choose Gradient Descent"
   ]
  },
  {
   "cell_type": "code",
   "execution_count": null,
   "id": "18841158",
   "metadata": {},
   "outputs": [],
   "source": [
    "optimizer = optim.SGD(cnn.parameters(), lr=0.001, momentum=0.9)\n",
    "import time"
   ]
  },
  {
   "cell_type": "code",
   "execution_count": null,
   "id": "025159b8",
   "metadata": {},
   "outputs": [],
   "source": [
    "start = time.time()\n",
    "for i in range (10):\n",
    "    epoch_loss = 0\n",
    "    for data, label in tqdm(trainloader):\n",
    "        optimizer.zero_grad()\n",
    "        output = cnn(data)\n",
    "        current_loss = loss(output, label)\n",
    "        current_loss.backward()\n",
    "        epoch_loss += current_loss.item()\n",
    "        optimizer.step()\n",
    "    print('Epoch', i+1, ' loss = ', epoch_loss)\n",
    "print('Total time to calculate ',time.time()-start,' secs')"
   ]
  },
  {
   "cell_type": "code",
   "execution_count": null,
   "id": "c45d25d6",
   "metadata": {},
   "outputs": [],
   "source": [
    "def accuracy(loader, cnn):\n",
    "    correct = 0\n",
    "    total = 0\n",
    "    for data, labels in loader:\n",
    "        outputs = cnn(data)\n",
    "        _, predicted = torch.max(outputs, 1)\n",
    "        correct += torch.sum(predicted == labels).item()\n",
    "        total += labels.size(0)\n",
    "    return 100*correct/total\n",
    "        "
   ]
  },
  {
   "cell_type": "code",
   "execution_count": null,
   "id": "1b831a3b",
   "metadata": {},
   "outputs": [],
   "source": [
    "print('train accuracy = ',accuracy(trainloader, cnn))\n",
    "print('test accuracy = ',accuracy(testloader, cnn))"
   ]
  },
  {
   "cell_type": "code",
   "execution_count": null,
   "id": "f5a08f6f",
   "metadata": {},
   "outputs": [],
   "source": [
    "optimizer = optim.SGD(cnn.parameters(), lr=0.001)"
   ]
  },
  {
   "cell_type": "code",
   "execution_count": null,
   "id": "2a4da1fb",
   "metadata": {},
   "outputs": [],
   "source": [
    "start = time.time()\n",
    "for i in range (10):\n",
    "    epoch_loss = 0\n",
    "    for data, label in tqdm(trainloader):\n",
    "        optimizer.zero_grad()\n",
    "        output = cnn(data)\n",
    "        current_loss = loss(output, label)\n",
    "        current_loss.backward()\n",
    "        epoch_loss += current_loss.item()\n",
    "        optimizer.step()\n",
    "    print('Epoch', i+1, ' loss = ', epoch_loss)\n",
    "print('Total time to calculate ',time.time()-start,' secs')"
   ]
  },
  {
   "cell_type": "code",
   "execution_count": null,
   "id": "523ab1d8",
   "metadata": {},
   "outputs": [],
   "source": [
    "print('train accuracy = ',accuracy(trainloader, cnn))\n",
    "print('test accuracy = ',accuracy(testloader, cnn))"
   ]
  },
  {
   "cell_type": "code",
   "execution_count": null,
   "id": "341ee4f6",
   "metadata": {},
   "outputs": [],
   "source": [
    "optimizer = optim.Adam(cnn.parameters(), lr=0.001)"
   ]
  },
  {
   "cell_type": "code",
   "execution_count": null,
   "id": "5b0205b0",
   "metadata": {},
   "outputs": [],
   "source": [
    "start = time.time()\n",
    "for i in range (10):\n",
    "    epoch_loss = 0\n",
    "    for data, label in tqdm(trainloader):\n",
    "        optimizer.zero_grad()\n",
    "        output = cnn(data)\n",
    "        current_loss = loss(output, label)\n",
    "        current_loss.backward()\n",
    "        epoch_loss += current_loss.item()\n",
    "        optimizer.step()\n",
    "    print('Epoch', i+1, ' loss = ', epoch_loss)\n",
    "print('Total time to calculate ',time.time()-start,' secs')"
   ]
  },
  {
   "cell_type": "code",
   "execution_count": null,
   "id": "504cdfbb",
   "metadata": {},
   "outputs": [],
   "source": [
    "print('train accuracy = ',accuracy(trainloader, cnn))\n",
    "print('test accuracy = ',accuracy(testloader, cnn))"
   ]
  }
 ],
 "metadata": {
  "kernelspec": {
   "display_name": "Python 3 (ipykernel)",
   "language": "python",
   "name": "python3"
  },
  "language_info": {
   "codemirror_mode": {
    "name": "ipython",
    "version": 3
   },
   "file_extension": ".py",
   "mimetype": "text/x-python",
   "name": "python",
   "nbconvert_exporter": "python",
   "pygments_lexer": "ipython3",
   "version": "3.9.13"
  }
 },
 "nbformat": 4,
 "nbformat_minor": 5
}
