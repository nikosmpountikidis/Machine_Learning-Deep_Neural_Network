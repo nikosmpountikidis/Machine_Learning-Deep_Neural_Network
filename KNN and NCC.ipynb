{
 "cells": [
  {
   "cell_type": "code",
   "execution_count": null,
   "id": "173835ad",
   "metadata": {},
   "outputs": [],
   "source": [
    "import keras\n",
    "import numpy as np\n",
    "from keras.datasets import mnist\n",
    "import time"
   ]
  },
  {
   "cell_type": "code",
   "execution_count": null,
   "id": "2912d025",
   "metadata": {},
   "outputs": [],
   "source": [
    "(x_train, y_train), (x_test, y_test) = mnist.load_data()"
   ]
  },
  {
   "cell_type": "markdown",
   "id": "f8becfc9",
   "metadata": {},
   "source": [
    "# Divide by 255 to Set the Values to 0-1"
   ]
  },
  {
   "cell_type": "code",
   "execution_count": null,
   "id": "e3571cf5",
   "metadata": {},
   "outputs": [],
   "source": [
    "x_train = x_train / 255.0\n",
    "x_test = x_test / 255.0"
   ]
  },
  {
   "cell_type": "markdown",
   "id": "29b88f4f",
   "metadata": {},
   "source": [
    "# Reshape the Images from 28x28 to 1-Dimensional Matrix"
   ]
  },
  {
   "cell_type": "code",
   "execution_count": null,
   "id": "d63e3acd",
   "metadata": {},
   "outputs": [],
   "source": [
    "x_train = x_train.reshape(x_train.shape[0], -1)\n",
    "x_test = x_test.reshape(x_test.shape[0], -1)\n",
    "print(x_train.shape)"
   ]
  },
  {
   "cell_type": "markdown",
   "id": "5b7c33f1",
   "metadata": {},
   "source": [
    "# Train the Nearest Class Centroid Model"
   ]
  },
  {
   "cell_type": "code",
   "execution_count": null,
   "id": "a977ef18",
   "metadata": {},
   "outputs": [],
   "source": [
    "from sklearn.neighbors import NearestCentroid\n",
    "ncc = NearestCentroid(metric='euclidean')\n",
    "\n",
    "start = time.time()\n",
    "ncc.fit(x_train, y_train)\n",
    "print('Total time to fit ',time.time()-start,' secs')"
   ]
  },
  {
   "cell_type": "code",
   "execution_count": null,
   "id": "27d05a3a",
   "metadata": {},
   "outputs": [],
   "source": [
    "y_pred = ncc.predict(x_test)"
   ]
  },
  {
   "cell_type": "markdown",
   "id": "d8d6753d",
   "metadata": {},
   "source": [
    "# Evaluation of the NCC Model"
   ]
  },
  {
   "cell_type": "code",
   "execution_count": null,
   "id": "8aacdabb",
   "metadata": {},
   "outputs": [],
   "source": [
    "from sklearn.metrics import classification_report\n",
    "report = classification_report(y_test, y_pred, zero_division=1)\n",
    "print(report)"
   ]
  },
  {
   "cell_type": "code",
   "execution_count": null,
   "id": "b8b3264a",
   "metadata": {},
   "outputs": [],
   "source": [
    "from sklearn.metrics import confusion_matrix\n",
    "confusion = confusion_matrix(y_true=y_test, y_pred=y_pred)\n",
    "confusion"
   ]
  },
  {
   "cell_type": "code",
   "execution_count": null,
   "id": "010e75e9",
   "metadata": {},
   "outputs": [],
   "source": [
    "import seaborn as sns\n",
    "s = sns.heatmap(confusion, annot=True,linewidths=2, cmap='nipy_spectral_r')"
   ]
  },
  {
   "cell_type": "markdown",
   "id": "bd60df64",
   "metadata": {},
   "source": [
    "# One-Hot Encoding of the y Values"
   ]
  },
  {
   "cell_type": "code",
   "execution_count": null,
   "id": "249ef121",
   "metadata": {},
   "outputs": [],
   "source": [
    "for i in range(10):\n",
    "    print(y_train[i])"
   ]
  },
  {
   "cell_type": "code",
   "execution_count": null,
   "id": "5e946aa6",
   "metadata": {},
   "outputs": [],
   "source": [
    "y_train = keras.utils.to_categorical(y_train, 10)\n",
    "y_test = keras.utils.to_categorical(y_test, 10)"
   ]
  },
  {
   "cell_type": "code",
   "execution_count": null,
   "id": "c740f012",
   "metadata": {},
   "outputs": [],
   "source": [
    "for i in range(10):\n",
    "    print(y_train[i])"
   ]
  },
  {
   "cell_type": "markdown",
   "id": "239b5391",
   "metadata": {},
   "source": [
    "# Train the K-Nearest Neighbor Model for k=3"
   ]
  },
  {
   "cell_type": "code",
   "execution_count": null,
   "id": "7ee3e99f",
   "metadata": {},
   "outputs": [],
   "source": [
    "from sklearn.neighbors import KNeighborsClassifier\n",
    "knn_3 = KNeighborsClassifier(n_neighbors=3,p=2,metric='euclidean')\n",
    "\n",
    "start = time.time()\n",
    "knn_3.fit(x_train, y_train)\n",
    "print('Total time to fit ',time.time()-start,' secs')"
   ]
  },
  {
   "cell_type": "code",
   "execution_count": null,
   "id": "453afc04",
   "metadata": {},
   "outputs": [],
   "source": [
    "start = time.time()\n",
    "y_pred = knn_3.predict(x_test)\n",
    "print('Total time to fit ',time.time()-start,' secs')"
   ]
  },
  {
   "cell_type": "markdown",
   "id": "fe80975d",
   "metadata": {},
   "source": [
    "# Evaluation of the Model for k=3"
   ]
  },
  {
   "cell_type": "code",
   "execution_count": null,
   "id": "c4dea006",
   "metadata": {},
   "outputs": [],
   "source": [
    "from sklearn.metrics import classification_report\n",
    "report = classification_report(y_test, y_pred, zero_division=1)\n",
    "print(report)"
   ]
  },
  {
   "cell_type": "code",
   "execution_count": null,
   "id": "515a8226",
   "metadata": {},
   "outputs": [],
   "source": [
    "from sklearn.metrics import confusion_matrix\n",
    "confusion = confusion_matrix(y_test.argmax(axis=1), y_pred.argmax(axis=1))\n",
    "confusion"
   ]
  },
  {
   "cell_type": "code",
   "execution_count": null,
   "id": "64758a66",
   "metadata": {},
   "outputs": [],
   "source": [
    "import seaborn as sns\n",
    "s = sns.heatmap(confusion, annot=True,linewidths=2, cmap='nipy_spectral_r')"
   ]
  },
  {
   "cell_type": "markdown",
   "id": "381fb74b",
   "metadata": {},
   "source": [
    "# Train the K-Nearest Neighbor Model for k=1"
   ]
  },
  {
   "cell_type": "code",
   "execution_count": null,
   "id": "7e57d8da",
   "metadata": {},
   "outputs": [],
   "source": [
    "knn_1 = KNeighborsClassifier(n_neighbors=1,p=2,metric='euclidean')\n",
    "knn_1.fit(x_train, y_train)"
   ]
  },
  {
   "cell_type": "code",
   "execution_count": null,
   "id": "f3961ef2",
   "metadata": {},
   "outputs": [],
   "source": [
    "start = time.time()\n",
    "y_pred = knn_1.predict(x_test)\n",
    "print('Prediction time ', time.time()-start, ' secs')"
   ]
  },
  {
   "cell_type": "markdown",
   "id": "95c17124",
   "metadata": {},
   "source": [
    "# Evaluation of the Model for k=1"
   ]
  },
  {
   "cell_type": "code",
   "execution_count": null,
   "id": "abe3a225",
   "metadata": {},
   "outputs": [],
   "source": [
    "report = classification_report(y_test, y_pred, zero_division=1)\n",
    "print(report)"
   ]
  },
  {
   "cell_type": "code",
   "execution_count": null,
   "id": "f24d4416",
   "metadata": {},
   "outputs": [],
   "source": [
    "confusion = confusion_matrix(y_test.argmax(axis=1), y_pred.argmax(axis=1))\n",
    "confusion"
   ]
  },
  {
   "cell_type": "code",
   "execution_count": null,
   "id": "602f9aba",
   "metadata": {},
   "outputs": [],
   "source": [
    "import seaborn as sns\n",
    "s = sns.heatmap(confusion, annot=True,linewidths=2, cmap='nipy_spectral_r')"
   ]
  }
 ],
 "metadata": {
  "kernelspec": {
   "display_name": "Python 3 (ipykernel)",
   "language": "python",
   "name": "python3"
  },
  "language_info": {
   "codemirror_mode": {
    "name": "ipython",
    "version": 3
   },
   "file_extension": ".py",
   "mimetype": "text/x-python",
   "name": "python",
   "nbconvert_exporter": "python",
   "pygments_lexer": "ipython3",
   "version": "3.9.13"
  }
 },
 "nbformat": 4,
 "nbformat_minor": 5
}
