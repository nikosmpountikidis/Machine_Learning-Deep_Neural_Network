{
 "cells": [
  {
   "cell_type": "code",
   "execution_count": null,
   "id": "650e6f62",
   "metadata": {},
   "outputs": [],
   "source": [
    "from keras.datasets import mnist\n",
    "import numpy as np"
   ]
  },
  {
   "cell_type": "code",
   "execution_count": null,
   "id": "48c10749",
   "metadata": {},
   "outputs": [],
   "source": [
    "(x_train, y_train), (x_test, y_test) = mnist.load_data()"
   ]
  },
  {
   "cell_type": "code",
   "execution_count": null,
   "id": "ade7a9d9",
   "metadata": {},
   "outputs": [],
   "source": [
    "print(x_train.shape, y_train.shape, x_test.shape, y_test.shape)"
   ]
  },
  {
   "cell_type": "code",
   "execution_count": null,
   "id": "5bbdeb09",
   "metadata": {},
   "outputs": [],
   "source": [
    "print(y_train[0:100])"
   ]
  },
  {
   "cell_type": "code",
   "execution_count": null,
   "id": "e4ef1373",
   "metadata": {},
   "outputs": [],
   "source": [
    "print(y_test[0:100])"
   ]
  },
  {
   "cell_type": "markdown",
   "id": "ed9587e4",
   "metadata": {},
   "source": [
    "# Normalize the numbers to values 0-1"
   ]
  },
  {
   "cell_type": "code",
   "execution_count": null,
   "id": "6e4ceb18",
   "metadata": {},
   "outputs": [],
   "source": [
    "x_train = x_train/255.0\n",
    "x_test = x_test/255.0"
   ]
  },
  {
   "cell_type": "code",
   "execution_count": null,
   "id": "238ef5b6",
   "metadata": {},
   "outputs": [],
   "source": [
    "print(np.min(x_test), np.max(x_test))\n",
    "print(np.min(x_train), np.max(x_train))"
   ]
  },
  {
   "cell_type": "markdown",
   "id": "8bcff76a",
   "metadata": {},
   "source": [
    "# Reshape data from 3-D to 2-D"
   ]
  },
  {
   "cell_type": "code",
   "execution_count": null,
   "id": "b838d56d",
   "metadata": {},
   "outputs": [],
   "source": [
    "x_train = x_train.reshape(x_train.shape[0], 784)\n",
    "x_test = x_test.reshape(x_test.shape[0], 784)\n",
    "print(x_train.shape)\n",
    "print(x_test.shape)"
   ]
  },
  {
   "cell_type": "code",
   "execution_count": null,
   "id": "9efe1732",
   "metadata": {},
   "outputs": [],
   "source": [
    "from sklearn.svm import SVC\n",
    "import time"
   ]
  },
  {
   "cell_type": "markdown",
   "id": "bd091c13",
   "metadata": {},
   "source": [
    "# For C=1, \"One vs Rest\" and Gamma=[0.01-100]"
   ]
  },
  {
   "cell_type": "code",
   "execution_count": null,
   "id": "ebf21619",
   "metadata": {},
   "outputs": [],
   "source": [
    "for gamma in [0.01, 0.1, 1, 10, 100]:\n",
    "    rbf_svm = SVC(C=1,kernel='rbf', gamma=gamma,decision_function_shape='ovr', max_iter=100)\n",
    "    start = time.time()\n",
    "    rbf_svm.fit(x_train, y_train)\n",
    "    end = time.time()\n",
    "    print('Model trained in ',end-start,' seconds')\n",
    "    print('Train Accuracy: ',rbf_svm.score(x_train, y_train)*100)\n",
    "    print('Test Accuracy: ',rbf_svm.score(x_test, y_test)*100)"
   ]
  },
  {
   "cell_type": "markdown",
   "id": "f9324e47",
   "metadata": {},
   "source": [
    "# For C=10, \"One vs Rest\" and Gamma=[0.01-100]"
   ]
  },
  {
   "cell_type": "code",
   "execution_count": null,
   "id": "33929f02",
   "metadata": {},
   "outputs": [],
   "source": [
    "for gamma in [0.01, 0.1, 1, 10, 100]:\n",
    "    rbf_svm = SVC(C=10,kernel='rbf', gamma=gamma,decision_function_shape='ovr', max_iter=100)\n",
    "    start = time.time()\n",
    "    rbf_svm.fit(x_train, y_train)\n",
    "    end = time.time()\n",
    "    print('Model trained in ',end-start,' seconds')\n",
    "    print('Train Accuracy: ',rbf_svm.score(x_train, y_train)*100)\n",
    "    print('Test Accuracy: ',rbf_svm.score(x_test, y_test)*100)"
   ]
  },
  {
   "cell_type": "markdown",
   "id": "24a334e1",
   "metadata": {},
   "source": [
    "# For C=0.1, \"One vs Rest\" and Gamma=[0.01-100]"
   ]
  },
  {
   "cell_type": "code",
   "execution_count": null,
   "id": "4a217d32",
   "metadata": {},
   "outputs": [],
   "source": [
    "for gamma in [0.01, 0.1, 1, 10, 100]:\n",
    "    rbf_svm = SVC(C=0.1,kernel='rbf', gamma=gamma,decision_function_shape='ovr', max_iter=100)\n",
    "    start = time.time()\n",
    "    rbf_svm.fit(x_train, y_train)\n",
    "    end = time.time()\n",
    "    print('Model trained in ',end-start,' seconds')\n",
    "    print('Train Accuracy: ',rbf_svm.score(x_train, y_train)*100)\n",
    "    print('Test Accuracy: ',rbf_svm.score(x_test, y_test)*100)"
   ]
  },
  {
   "cell_type": "markdown",
   "id": "46d90086",
   "metadata": {},
   "source": [
    "# For C=1, \"One vs One\" and Gamma=[0.01-100]"
   ]
  },
  {
   "cell_type": "code",
   "execution_count": null,
   "id": "2fe02265",
   "metadata": {},
   "outputs": [],
   "source": [
    "for gamma in [0.01, 0.1, 1, 10, 100]:\n",
    "    rbf_svm = SVC(C=1,kernel='rbf', gamma=gamma,decision_function_shape='ovo', max_iter=100)\n",
    "    start = time.time()\n",
    "    rbf_svm.fit(x_train, y_train)\n",
    "    end = time.time()\n",
    "    print('Model trained in ',end-start,' seconds')\n",
    "    print('Train Accuracy: ',rbf_svm.score(x_train, y_train)*100)\n",
    "    print('Test Accuracy: ',rbf_svm.score(x_test, y_test)*100)"
   ]
  }
 ],
 "metadata": {
  "kernelspec": {
   "display_name": "Python 3 (ipykernel)",
   "language": "python",
   "name": "python3"
  },
  "language_info": {
   "codemirror_mode": {
    "name": "ipython",
    "version": 3
   },
   "file_extension": ".py",
   "mimetype": "text/x-python",
   "name": "python",
   "nbconvert_exporter": "python",
   "pygments_lexer": "ipython3",
   "version": "3.9.13"
  }
 },
 "nbformat": 4,
 "nbformat_minor": 5
}
