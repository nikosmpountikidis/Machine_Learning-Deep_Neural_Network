{
 "cells": [
  {
   "cell_type": "code",
   "execution_count": null,
   "id": "9e2fd781",
   "metadata": {},
   "outputs": [],
   "source": [
    "from keras.datasets import mnist\n",
    "import numpy as np"
   ]
  },
  {
   "cell_type": "code",
   "execution_count": null,
   "id": "d0228bdf",
   "metadata": {},
   "outputs": [],
   "source": [
    "(x_train, y_train), (x_test, y_test) = mnist.load_data()"
   ]
  },
  {
   "cell_type": "code",
   "execution_count": null,
   "id": "32a9d646",
   "metadata": {},
   "outputs": [],
   "source": [
    "print(x_train.shape, y_train.shape, x_test.shape, y_test.shape)"
   ]
  },
  {
   "cell_type": "markdown",
   "id": "d73bb20a",
   "metadata": {},
   "source": [
    "# Classify the labels to odd and even, with 0 representig even and 1 odd"
   ]
  },
  {
   "cell_type": "code",
   "execution_count": null,
   "id": "2486049d",
   "metadata": {},
   "outputs": [],
   "source": [
    "for i in range (60000):\n",
    "   if y_train[i] % 2 == 0:\n",
    "    y_train[i] = 0\n",
    "   else:\n",
    "    y_train[i] = 1\n",
    "        "
   ]
  },
  {
   "cell_type": "code",
   "execution_count": null,
   "id": "94dae775",
   "metadata": {},
   "outputs": [],
   "source": [
    "print(y_train[0:100])"
   ]
  },
  {
   "cell_type": "code",
   "execution_count": null,
   "id": "f41bfd5d",
   "metadata": {},
   "outputs": [],
   "source": [
    "for i in range (10000):\n",
    "   if y_test[i] % 2 == 0:\n",
    "    y_test[i] = 0\n",
    "   else:\n",
    "    y_test[i] = 1"
   ]
  },
  {
   "cell_type": "code",
   "execution_count": null,
   "id": "5231ed5c",
   "metadata": {},
   "outputs": [],
   "source": [
    "print(y_test[0:100])"
   ]
  },
  {
   "cell_type": "markdown",
   "id": "74638ac0",
   "metadata": {},
   "source": [
    "# Normalize the numbers to values 0-1"
   ]
  },
  {
   "cell_type": "code",
   "execution_count": null,
   "id": "75d6a954",
   "metadata": {},
   "outputs": [],
   "source": [
    "x_train = x_train/255.0\n",
    "x_test = x_test/255.0"
   ]
  },
  {
   "cell_type": "code",
   "execution_count": null,
   "id": "46269375",
   "metadata": {},
   "outputs": [],
   "source": [
    "print(np.min(x_test), np.max(x_test))\n",
    "print(np.min(x_train), np.max(x_train))"
   ]
  },
  {
   "cell_type": "markdown",
   "id": "5b13f267",
   "metadata": {},
   "source": [
    "# Reshape data from 3-D to 2-D"
   ]
  },
  {
   "cell_type": "code",
   "execution_count": null,
   "id": "74d2e9a0",
   "metadata": {},
   "outputs": [],
   "source": [
    "x_train = x_train.reshape(x_train.shape[0], 784)\n",
    "x_test = x_test.reshape(x_test.shape[0], 784)\n",
    "print(x_train.shape)\n",
    "print(x_test.shape)"
   ]
  },
  {
   "cell_type": "markdown",
   "id": "8bb335c1",
   "metadata": {},
   "source": [
    "# Linear Implementation"
   ]
  },
  {
   "cell_type": "code",
   "execution_count": null,
   "id": "5ed25bff",
   "metadata": {},
   "outputs": [],
   "source": [
    "from sklearn.svm import LinearSVC"
   ]
  },
  {
   "cell_type": "code",
   "execution_count": null,
   "id": "f506b8a3",
   "metadata": {},
   "outputs": [],
   "source": [
    "linear_svm = LinearSVC(loss='hinge',C=1)"
   ]
  },
  {
   "cell_type": "code",
   "execution_count": null,
   "id": "acdb4da2",
   "metadata": {},
   "outputs": [],
   "source": [
    "import time"
   ]
  },
  {
   "cell_type": "code",
   "execution_count": null,
   "id": "bdc6bdd6",
   "metadata": {},
   "outputs": [],
   "source": [
    "for C in [0.01, 0.1, 1, 10, 100]:\n",
    "    linear_svm = LinearSVC(loss='hinge',C=C)\n",
    "    start = time.time()\n",
    "    linear_svm.fit(x_train, y_train)\n",
    "    end = time.time()\n",
    "    print('Model trained in ',end-start,' seconds')\n",
    "    print('Train Accuracy: ',linear_svm.score(x_train, y_train)*100)\n",
    "    print('Test Accuracy: ',linear_svm.score(x_test, y_test)*100)"
   ]
  },
  {
   "cell_type": "markdown",
   "id": "f8d428c1",
   "metadata": {},
   "source": [
    "# Kernel Implementation"
   ]
  },
  {
   "cell_type": "code",
   "execution_count": null,
   "id": "8b6370ab",
   "metadata": {},
   "outputs": [],
   "source": [
    "from sklearn.svm import SVC"
   ]
  },
  {
   "cell_type": "markdown",
   "id": "2071e321",
   "metadata": {},
   "source": [
    "# Linear Kernel"
   ]
  },
  {
   "cell_type": "code",
   "execution_count": null,
   "id": "ad5e97d2",
   "metadata": {},
   "outputs": [],
   "source": [
    "for C in [0.01, 0.1, 1, 10, 100]:\n",
    "    svm = SVC(C=C, kernel='linear',max_iter=1000)\n",
    "    start = time.time()\n",
    "    svm.fit(x_train, y_train)\n",
    "    end = time.time()\n",
    "    print('Model trained in ',end-start,' seconds')\n",
    "    print('Train Accuracy: ',svm.score(x_train, y_train)*100)\n",
    "    print('Test Accuracy: ',svm.score(x_test, y_test)*100)"
   ]
  },
  {
   "cell_type": "markdown",
   "id": "01527a92",
   "metadata": {},
   "source": [
    "# Polynomial Kernel with Degree=2"
   ]
  },
  {
   "cell_type": "code",
   "execution_count": null,
   "id": "226abcbf",
   "metadata": {},
   "outputs": [],
   "source": [
    "for C in [0.01, 0.1, 1, 10, 100]:\n",
    "    svm = SVC(C=C, kernel='poly', degree=2,max_iter=1000)\n",
    "    start = time.time()\n",
    "    svm.fit(x_train, y_train)\n",
    "    end = time.time()\n",
    "    print('Model trained in ',end-start,' seconds')\n",
    "    print('Train Accuracy: ',svm.score(x_train, y_train)*100)\n",
    "    print('Test Accuracy: ',svm.score(x_test, y_test)*100)"
   ]
  },
  {
   "cell_type": "markdown",
   "id": "0bb2602a",
   "metadata": {},
   "source": [
    "# Polynomial Kernel with Degree=3"
   ]
  },
  {
   "cell_type": "code",
   "execution_count": null,
   "id": "8c750df1",
   "metadata": {},
   "outputs": [],
   "source": [
    "for C in [0.01, 0.1, 1, 10, 100]:\n",
    "    svm = SVC(C=C, kernel='poly', degree=3,max_iter=1000)\n",
    "    start = time.time()\n",
    "    svm.fit(x_train, y_train)\n",
    "    end = time.time()\n",
    "    print('Model trained in ',end-start,' seconds')\n",
    "    print('Train Accuracy: ',svm.score(x_train, y_train)*100)\n",
    "    print('Test Accuracy: ',svm.score(x_test, y_test)*100)"
   ]
  }
 ],
 "metadata": {
  "kernelspec": {
   "display_name": "Python 3 (ipykernel)",
   "language": "python",
   "name": "python3"
  },
  "language_info": {
   "codemirror_mode": {
    "name": "ipython",
    "version": 3
   },
   "file_extension": ".py",
   "mimetype": "text/x-python",
   "name": "python",
   "nbconvert_exporter": "python",
   "pygments_lexer": "ipython3",
   "version": "3.9.13"
  }
 },
 "nbformat": 4,
 "nbformat_minor": 5
}
